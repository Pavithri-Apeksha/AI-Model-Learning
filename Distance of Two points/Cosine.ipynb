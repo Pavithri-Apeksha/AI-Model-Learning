{
 "cells": [
  {
   "cell_type": "code",
   "execution_count": 1,
   "id": "1ad3a8f2-4c58-4640-9b64-ef2fe67fa6c6",
   "metadata": {},
   "outputs": [],
   "source": [
    "A = (5,3)\n",
    "B= (2,4)"
   ]
  },
  {
   "cell_type": "code",
   "execution_count": 2,
   "id": "2a95dc4c-ff70-49bb-9fa7-a4c06dc6002d",
   "metadata": {},
   "outputs": [],
   "source": [
    "from scipy.spatial import distance"
   ]
  },
  {
   "cell_type": "code",
   "execution_count": 3,
   "id": "a492b82d-7f9d-41b1-abfd-1675b2ad0b1c",
   "metadata": {},
   "outputs": [
    {
     "name": "stdout",
     "output_type": "stream",
     "text": [
      "0.15633851226789253\n"
     ]
    }
   ],
   "source": [
    "d = distance.cosine(A,B)\n",
    "print(d)"
   ]
  },
  {
   "cell_type": "code",
   "execution_count": null,
   "id": "6f39dc09-f07f-43dc-821b-82c205e44404",
   "metadata": {},
   "outputs": [],
   "source": []
  }
 ],
 "metadata": {
  "kernelspec": {
   "display_name": "Python 3 (ipykernel)",
   "language": "python",
   "name": "python3"
  },
  "language_info": {
   "codemirror_mode": {
    "name": "ipython",
    "version": 3
   },
   "file_extension": ".py",
   "mimetype": "text/x-python",
   "name": "python",
   "nbconvert_exporter": "python",
   "pygments_lexer": "ipython3",
   "version": "3.13.0"
  }
 },
 "nbformat": 4,
 "nbformat_minor": 5
}
