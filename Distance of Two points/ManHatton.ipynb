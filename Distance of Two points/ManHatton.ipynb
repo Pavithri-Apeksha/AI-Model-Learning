{
 "cells": [
  {
   "cell_type": "code",
   "execution_count": 1,
   "id": "fe2b930d-c5f7-4364-b98e-bd3dc04feb9a",
   "metadata": {},
   "outputs": [],
   "source": [
    "A = (5,2)\n",
    "B = (2,4)"
   ]
  },
  {
   "cell_type": "code",
   "execution_count": 2,
   "id": "f29bd91a-2317-4f1f-9ac3-51888cce16e7",
   "metadata": {},
   "outputs": [],
   "source": [
    "from scipy.spatial import distance"
   ]
  },
  {
   "cell_type": "code",
   "execution_count": 4,
   "id": "14fd7554-1da3-4e35-b116-adb1553b9214",
   "metadata": {},
   "outputs": [
    {
     "name": "stdout",
     "output_type": "stream",
     "text": [
      "5\n"
     ]
    }
   ],
   "source": [
    "d = distance.cityblock(A,B)\n",
    "print(d)"
   ]
  },
  {
   "cell_type": "code",
   "execution_count": null,
   "id": "0771be39-f08c-4bde-992d-4be00d9b8797",
   "metadata": {},
   "outputs": [],
   "source": []
  }
 ],
 "metadata": {
  "kernelspec": {
   "display_name": "Python 3 (ipykernel)",
   "language": "python",
   "name": "python3"
  },
  "language_info": {
   "codemirror_mode": {
    "name": "ipython",
    "version": 3
   },
   "file_extension": ".py",
   "mimetype": "text/x-python",
   "name": "python",
   "nbconvert_exporter": "python",
   "pygments_lexer": "ipython3",
   "version": "3.13.0"
  }
 },
 "nbformat": 4,
 "nbformat_minor": 5
}
